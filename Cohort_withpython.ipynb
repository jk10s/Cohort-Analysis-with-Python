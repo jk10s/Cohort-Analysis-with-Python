{
 "cells": [
  {
   "cell_type": "code",
   "execution_count": null,
   "id": "2f86abc5",
   "metadata": {},
   "outputs": [],
   "source": [
    "import pandas as pd\n",
    "import plotly.express as px\n",
    "import plotly.graph_objects as go\n",
    "import plotly.io as pio\n",
    "pio.templates.default = \"plotly_white\""
   ]
  },
  {
   "cell_type": "code",
   "execution_count": null,
   "id": "6a5380ca",
   "metadata": {},
   "outputs": [],
   "source": [
    "#For Data  Visualization\n",
    "import matplotlib.pyplot as plt\n",
    "import seaborn as sns\n",
    "\n",
    "#For Machine Learning Algorithm\n",
    "from sklearn.preprocessing import StandardScaler\n",
    "from sklearn.cluster import KMeans\n",
    "\n",
    "df = pd.read_excel('Online Retail.xlsx')\n",
    "df.head()"
   ]
  },
  {
   "cell_type": "code",
   "execution_count": null,
   "id": "70ad9091",
   "metadata": {},
   "outputs": [],
   "source": [
    "df.isnull().sum()"
   ]
  },
  {
   "cell_type": "code",
   "execution_count": null,
   "id": "df4d09b4",
   "metadata": {},
   "outputs": [],
   "source": [
    "df= df.dropna(subset=['CustomerID'])"
   ]
  },
  {
   "cell_type": "code",
   "execution_count": null,
   "id": "680019a4",
   "metadata": {},
   "outputs": [],
   "source": [
    "df = df.drop_duplicates()\n",
    "df.describe()"
   ]
  },
  {
   "cell_type": "code",
   "execution_count": null,
   "id": "02c073f0",
   "metadata": {},
   "outputs": [],
   "source": [
    "def get_month(x) : return dt.datetime(x.year,x.month,1)\n",
    "df['InvoiceMonth'] = df['InvoiceDate'].apply(get_month)\n",
    "grouping = df.groupby('CustomerID')['InvoiceMonth']\n",
    "df['CohortMonth'] = grouping.transform('min')\n",
    "\n",
    "def get_month_int (dframe,column):\n",
    "    year = dframe[column].dt.year\n",
    "    month = dframe[column].dt.month\n",
    "    day = dframe[column].dt.day\n",
    "    return year, month , day \n",
    "\n",
    "invoice_year,invoice_month,_ = get_month_int(df,'InvoiceMonth')\n",
    "cohort_year,cohort_month,_ = get_month_int(df,'CohortMonth')\n",
    "\n",
    "year_diff = invoice_year - cohort_year \n",
    "month_diff = invoice_month - cohort_month \n",
    "\n",
    "df['CohortIndex'] = year_diff * 12 + month_diff + 1 \n",
    "\n",
    "#Count monthly active customers from each cohort\n",
    "grouping = df.groupby(['CohortMonth', 'CohortIndex'])\n",
    "cohort_data = grouping['CustomerID'].apply(pd.Series.nunique)\n",
    "# Return number of unique elements in the object.\n",
    "cohort_data = cohort_data.reset_index()\n",
    "cohort_counts = cohort_data.pivot(index='CohortMonth',columns='CohortIndex',values='CustomerID')\n",
    "\n",
    "# Retention table\n",
    "cohort_size = cohort_counts.iloc[:,0]\n",
    "retention = cohort_counts.divide(cohort_size,axis=0) #axis=0 to ensure the divide along the row axis \n",
    "retention.round(3) * 100 #to show the number as percentage\n",
    "\n",
    "#Build the heatmap\n",
    "plt.figure(figsize=(15, 8))\n",
    "plt.title('Retention rates')\n",
    "sns.heatmap(data=retention,annot = True,fmt = '.0%',vmin = 0.0,vmax = 0.5,cmap=\"BuPu_r\")\n",
    "plt.show()"
   ]
  }
 ],
 "metadata": {
  "kernelspec": {
   "display_name": "Python 3 (ipykernel)",
   "language": "python",
   "name": "python3"
  },
  "language_info": {
   "codemirror_mode": {
    "name": "ipython",
    "version": 3
   },
   "file_extension": ".py",
   "mimetype": "text/x-python",
   "name": "python",
   "nbconvert_exporter": "python",
   "pygments_lexer": "ipython3",
   "version": "3.9.12"
  }
 },
 "nbformat": 4,
 "nbformat_minor": 5
}
